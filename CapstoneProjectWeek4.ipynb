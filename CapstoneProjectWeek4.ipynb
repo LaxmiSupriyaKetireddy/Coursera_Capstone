{
 "cells": [
  {
   "cell_type": "markdown",
   "metadata": {},
   "source": [
    "## Prediction of the fraudulent firm"
   ]
  },
  {
   "cell_type": "markdown",
   "metadata": {},
   "source": [
    "### Laxmi Supriya Ketireddy"
   ]
  },
  {
   "cell_type": "markdown",
   "metadata": {},
   "source": [
    "### 1. Introduction"
   ]
  },
  {
   "cell_type": "markdown",
   "metadata": {},
   "source": [
    "### 1.1 Background"
   ]
  },
  {
   "cell_type": "markdown",
   "metadata": {},
   "source": [
    "This is based on the case study of visiting an externl audit company and knowing how machine learning would help in improving the audit quality."
   ]
  },
  {
   "cell_type": "markdown",
   "metadata": {},
   "source": [
    "### 1.2 Problem "
   ]
  },
  {
   "cell_type": "markdown",
   "metadata": {},
   "source": [
    "Fraud is one of the main issues in thw whole world. People find different ways to overcome frauds. This problem shows how the machine learning helps in overcoming the fraud.   \n",
    "Fraud consists of dishonest and illegal activities perpetrated by the companies in order an advantageous financial outcome to the people in the firm or the firm.   \n",
    "Audit is an official inspection of an individual's or organization's accounts, typically by an independent body.  \n",
    "763 firms have been targetted in this project.   \n",
    "This project would help me gain knowledge oh how which factors would effect the risk of the fraud, what are the laws that the firm has to follow and which would help me improve my knowledge in analysing the data and help me understand how Machine Learning can be used in finding the fraudulent firm. "
   ]
  },
  {
   "cell_type": "markdown",
   "metadata": {},
   "source": [
    "### 2.  Data Set Information:\n",
    "This dataset is taken from a research explained here. \n",
    "\n",
    "The goal of the research is to help the auditors by building a classification model that can predict the fraudulent firm on the basis the present and historical risk factors. The information about the sectors and the counts of firms are listed respectively as Irrigation (114), Public Health (77), Buildings and Roads (82), Forest (70), Corporate (47), Animal Husbandry (95), Communication (1), Electrical (4), Land (5), Science and Technology (3), Tourism (1), Fisheries (41), Industries (37), Agriculture (200).\n",
    "\n",
    "There are two csv files to present data. Merged these two datasets into one dataframe. \n",
    "Considered ``Audit_Risk`` as target columns for regression tasks, and ``Risk`` as the target column for classification tasks. \n",
    "\n",
    "There were two data files for which I had to create the dataframes and merge them both. "
   ]
  },
  {
   "cell_type": "markdown",
   "metadata": {},
   "source": [
    "### 3. Attribute Information:\n",
    "Many risk factors are examined from various areas like past records of audit office, audit-paras, environmental conditions reports, firm reputation summary, on-going issues report, profit-value records, loss-value records, follow-up reports etc. After in-depth interview with the auditors, important risk factors are evaluated and their probability of existence is calculated from the present and past records."
   ]
  },
  {
   "cell_type": "markdown",
   "metadata": {},
   "source": [
    "### 4. Size of the data on merging the two dataframes"
   ]
  },
  {
   "cell_type": "markdown",
   "metadata": {},
   "source": [
    "Number of observations = 763  \n",
    "Number of features = 33\n"
   ]
  },
  {
   "cell_type": "markdown",
   "metadata": {},
   "source": [
    "### 5. Data Features "
   ]
  },
  {
   "cell_type": "markdown",
   "metadata": {},
   "source": [
    "1.  SECTOR_SCORE  \n",
    "2.  LOCATION_ID  \n",
    "3.  PARA_A  \n",
    "4.  SCORE_A  \n",
    "5.  RISK_A  \n",
    "6.  PARA_B  \n",
    "7.  SCORE_B  \n",
    "8.  RISK_B  \n",
    "9.  TOTAL  \n",
    "10. NUMBERS  \n",
    "11. SCORE_B.1  \n",
    "12. RISK_C  \n",
    "13. MONEY_VALUE  \n",
    "14. SCORE_MV  \n",
    "15. RISK_D  \n",
    "16. DISTRICT_LOSS  \n",
    "17. PROB_1  \n",
    "18. RISK_E  \n",
    "19. HISTORY  \n",
    "20. PROB  \n",
    "21. RISK_F  \n",
    "22. SCORE  \n",
    "23. INHERENT_RISK  \n",
    "24. CONTROL_RISK  \n",
    "25. AUDIT_RISK  \n",
    "26. RISK_x  \n",
    "27. MARKS  \n",
    "28. MONEY_MARKS\n",
    "29. DISTRICT  \n",
    "30. LOSS  \n",
    "31. LOSS_SCORE  \n",
    "32. HISTORY_SCORE  \n",
    "33. RISK_y'"
   ]
  },
  {
   "cell_type": "markdown",
   "metadata": {},
   "source": [
    "I performed central imputation, type conversion, finding and removing the outliers, visualizations, scaling of the features.   Then I applied both the regression models and classification models"
   ]
  },
  {
   "cell_type": "markdown",
   "metadata": {},
   "source": [
    "### 6.  Regression Task:\n",
    "- Applied all the regression models. Used Grid Search to find the best scaling parameter. Used plots and graphs to help get a better glimpse of the results. \n",
    "- Used cross validation to find average training and testing score. \n",
    "- Found the best regressor for this dataset and train your model on the entire dataset using the best parameters and predict buzz for the test_set.\n",
    "- Performed evaluation for the regression models."
   ]
  },
  {
   "cell_type": "markdown",
   "metadata": {},
   "source": [
    "### 7. Classification task:\n",
    "- Found the best parameters for following classification models: KNN classifcation, Logistic Regression, Linear Supprt Vector Machine, Kerenilzed Support Vector Machine, Decision Tree. \n",
    "- Performed evaluation for the classification models."
   ]
  }
 ],
 "metadata": {
  "kernelspec": {
   "display_name": "Python 3",
   "language": "python",
   "name": "python3"
  },
  "language_info": {
   "codemirror_mode": {
    "name": "ipython",
    "version": 3
   },
   "file_extension": ".py",
   "mimetype": "text/x-python",
   "name": "python",
   "nbconvert_exporter": "python",
   "pygments_lexer": "ipython3",
   "version": "3.6.0"
  }
 },
 "nbformat": 4,
 "nbformat_minor": 2
}
